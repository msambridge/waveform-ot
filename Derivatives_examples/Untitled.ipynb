{
 "cells": [
  {
   "cell_type": "code",
   "execution_count": 44,
   "id": "be2c99eb-b2f4-4b09-992c-656694c4c638",
   "metadata": {},
   "outputs": [
    {
     "name": "stdout",
     "output_type": "stream",
     "text": [
      "0 is not a prime number\n"
     ]
    }
   ],
   "source": [
    "# Program to check if a number is prime or not\n",
    "\n",
    "num = 0\n",
    "\n",
    "\n",
    "# To take input from the user\n",
    "#num = int(input(\"Enter a number: \"))\n",
    "\n",
    "# prime numbers are greater than 1\n",
    "prime = False\n",
    "notprinted = True\n",
    "if num > 1:\n",
    "    prime = True\n",
    "   # check for factors\n",
    "    for i in range(2,num):\n",
    "        if (num % i) == 0:\n",
    "            if(notprinted): \n",
    "                print(num, \"is not a prime number\")\n",
    "                #print(num,\"is not a prime number\")\n",
    "                notprinted = False\n",
    "            print(i,\"times\",num//i,\"is\",num)\n",
    "            prime = False\n",
    "           #break\n",
    "   \n",
    "# or equal to 1, it is not prime\n",
    "if(prime):\n",
    "    print(num, \"is a prime number\")\n",
    "else:\n",
    "    if(notprinted):print(num, \"is not a prime number\")"
   ]
  },
  {
   "cell_type": "code",
   "execution_count": 11,
   "id": "e621a424-417c-4aee-b29c-702a50c0f240",
   "metadata": {},
   "outputs": [
    {
     "data": {
      "text/plain": [
       "(37.0, 37)"
      ]
     },
     "execution_count": 11,
     "metadata": {},
     "output_type": "execute_result"
    }
   ],
   "source": [
    "num/11,num//11"
   ]
  },
  {
   "cell_type": "code",
   "execution_count": 7,
   "id": "066098a8-25b0-413c-b980-02a5bba261c3",
   "metadata": {},
   "outputs": [
    {
     "data": {
      "text/plain": [
       "135.66666666666666"
      ]
     },
     "execution_count": 7,
     "metadata": {},
     "output_type": "execute_result"
    }
   ],
   "source": [
    "407/3"
   ]
  },
  {
   "cell_type": "code",
   "execution_count": 8,
   "id": "cee7fdfa-3093-4759-94af-d72839640070",
   "metadata": {},
   "outputs": [
    {
     "data": {
      "text/plain": [
       "407"
      ]
     },
     "execution_count": 8,
     "metadata": {},
     "output_type": "execute_result"
    }
   ],
   "source": [
    "135*3 + 2"
   ]
  },
  {
   "cell_type": "code",
   "execution_count": null,
   "id": "d83640b7-aeb2-4377-b099-f420a4955cef",
   "metadata": {},
   "outputs": [],
   "source": []
  }
 ],
 "metadata": {
  "kernelspec": {
   "display_name": "Python 3 (ipykernel)",
   "language": "python",
   "name": "python3"
  },
  "language_info": {
   "codemirror_mode": {
    "name": "ipython",
    "version": 3
   },
   "file_extension": ".py",
   "mimetype": "text/x-python",
   "name": "python",
   "nbconvert_exporter": "python",
   "pygments_lexer": "ipython3",
   "version": "3.8.8"
  }
 },
 "nbformat": 4,
 "nbformat_minor": 5
}
